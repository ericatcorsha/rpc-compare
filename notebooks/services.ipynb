{
 "cells": [
  {
   "cell_type": "code",
   "execution_count": 1,
   "metadata": {},
   "outputs": [],
   "source": [
    "import pandas as pd\n",
    "import seaborn as sns\n",
    "sns.set(style=\"ticks\", palette=\"pastel\")"
   ]
  },
  {
   "cell_type": "code",
   "execution_count": 2,
   "metadata": {},
   "outputs": [],
   "source": [
    "data = {\n",
    "    \"baseline (ms)\": list(pd.read_csv(\"~/data/baseline.csv\")['response-time'] * 1000), # (* 1000) converts secs to ms\n",
    "    \"graphql (ms)\": list(pd.read_csv(\"~/data/graphql.csv\")['response-time'] * 1000), # (* 1000) converts secs to ms\n",
    "    \"grpc (ms)\": list(pd.read_csv(\"~/data/grpc.csv\")['duration (ms)']), # time is in ms\n",
    "    \"grpc-gateway (ms)\": list(pd.read_csv(\"~/data/grpc-gateway.csv\")['response-time'] * 1000), # (* 1000) converts secs to ms\n",
    "}"
   ]
  },
  {
   "cell_type": "code",
   "execution_count": 3,
   "metadata": {},
   "outputs": [],
   "source": [
    "df = pd.DataFrame(data)"
   ]
  },
  {
   "cell_type": "code",
   "execution_count": 4,
   "metadata": {},
   "outputs": [
    {
     "data": {
      "text/html": [
       "<div>\n",
       "<style scoped>\n",
       "    .dataframe tbody tr th:only-of-type {\n",
       "        vertical-align: middle;\n",
       "    }\n",
       "\n",
       "    .dataframe tbody tr th {\n",
       "        vertical-align: top;\n",
       "    }\n",
       "\n",
       "    .dataframe thead th {\n",
       "        text-align: right;\n",
       "    }\n",
       "</style>\n",
       "<table border=\"1\" class=\"dataframe\">\n",
       "  <thead>\n",
       "    <tr style=\"text-align: right;\">\n",
       "      <th></th>\n",
       "      <th>baseline (ms)</th>\n",
       "      <th>graphql (ms)</th>\n",
       "      <th>grpc (ms)</th>\n",
       "      <th>grpc-gateway (ms)</th>\n",
       "    </tr>\n",
       "  </thead>\n",
       "  <tbody>\n",
       "    <tr>\n",
       "      <th>count</th>\n",
       "      <td>10000.000000</td>\n",
       "      <td>10000.000000</td>\n",
       "      <td>10000.000000</td>\n",
       "      <td>10000.000000</td>\n",
       "    </tr>\n",
       "    <tr>\n",
       "      <th>mean</th>\n",
       "      <td>8.941380</td>\n",
       "      <td>8.806580</td>\n",
       "      <td>9.154328</td>\n",
       "      <td>9.394500</td>\n",
       "    </tr>\n",
       "    <tr>\n",
       "      <th>std</th>\n",
       "      <td>4.777182</td>\n",
       "      <td>5.118026</td>\n",
       "      <td>4.705315</td>\n",
       "      <td>6.003071</td>\n",
       "    </tr>\n",
       "    <tr>\n",
       "      <th>min</th>\n",
       "      <td>0.300000</td>\n",
       "      <td>0.300000</td>\n",
       "      <td>0.500000</td>\n",
       "      <td>0.300000</td>\n",
       "    </tr>\n",
       "    <tr>\n",
       "      <th>50%</th>\n",
       "      <td>8.800000</td>\n",
       "      <td>8.400000</td>\n",
       "      <td>8.200000</td>\n",
       "      <td>8.600000</td>\n",
       "    </tr>\n",
       "    <tr>\n",
       "      <th>95%</th>\n",
       "      <td>17.200000</td>\n",
       "      <td>17.300000</td>\n",
       "      <td>18.030500</td>\n",
       "      <td>19.705000</td>\n",
       "    </tr>\n",
       "    <tr>\n",
       "      <th>99%</th>\n",
       "      <td>25.501000</td>\n",
       "      <td>25.100000</td>\n",
       "      <td>25.260000</td>\n",
       "      <td>30.201000</td>\n",
       "    </tr>\n",
       "    <tr>\n",
       "      <th>max</th>\n",
       "      <td>39.200000</td>\n",
       "      <td>62.600000</td>\n",
       "      <td>34.510000</td>\n",
       "      <td>64.400000</td>\n",
       "    </tr>\n",
       "  </tbody>\n",
       "</table>\n",
       "</div>"
      ],
      "text/plain": [
       "       baseline (ms)  graphql (ms)     grpc (ms)  grpc-gateway (ms)\n",
       "count   10000.000000  10000.000000  10000.000000       10000.000000\n",
       "mean        8.941380      8.806580      9.154328           9.394500\n",
       "std         4.777182      5.118026      4.705315           6.003071\n",
       "min         0.300000      0.300000      0.500000           0.300000\n",
       "50%         8.800000      8.400000      8.200000           8.600000\n",
       "95%        17.200000     17.300000     18.030500          19.705000\n",
       "99%        25.501000     25.100000     25.260000          30.201000\n",
       "max        39.200000     62.600000     34.510000          64.400000"
      ]
     },
     "execution_count": 4,
     "metadata": {},
     "output_type": "execute_result"
    }
   ],
   "source": [
    "df.describe(percentiles=[0.5, 0.95, 0.99])"
   ]
  },
  {
   "cell_type": "code",
   "execution_count": 5,
   "metadata": {},
   "outputs": [
    {
     "data": {
      "image/png": "[encoded data removed]",
      "text/plain": [
       "<Figure size 432x288 with 1 Axes>"
      ]
     },
     "metadata": {},
     "output_type": "display_data"
    }
   ],
   "source": [
    "sns.boxplot(data=df)\n",
    "sns.despine(offset=10, trim=True)"
   ]
  },
  {
   "cell_type": "code",
   "execution_count": 6,
   "metadata": {},
   "outputs": [
    {
     "data": {
      "text/plain": [
       "array([[<matplotlib.axes._subplots.AxesSubplot object at 0x7f500cfcaf10>,\n",
       "        <matplotlib.axes._subplots.AxesSubplot object at 0x7f500ae7bfd0>],\n",
       "       [<matplotlib.axes._subplots.AxesSubplot object at 0x7f500ae2fcd0>,\n",
       "        <matplotlib.axes._subplots.AxesSubplot object at 0x7f500ade6950>]],\n",
       "      dtype=object)"
      ]
     },
     "execution_count": 6,
     "metadata": {},
     "output_type": "execute_result"
    },
    {
     "data": {
      "image/png": "[encoded data removed]",
      "text/plain": [
       "<Figure size 432x288 with 4 Axes>"
      ]
     },
     "metadata": {},
     "output_type": "display_data"
    }
   ],
   "source": [
    "df.hist()"
   ]
  },
  {
   "cell_type": "code",
   "execution_count": null,
   "metadata": {},
   "outputs": [],
   "source": []
  }
 ],
 "metadata": {
  "kernelspec": {
   "display_name": "Python 3",
   "language": "python",
   "name": "python3"
  },
  "language_info": {
   "codemirror_mode": {
    "name": "ipython",
    "version": 3
   },
   "file_extension": ".py",
   "mimetype": "text/x-python",
   "name": "python",
   "nbconvert_exporter": "python",
   "pygments_lexer": "ipython3",
   "version": "3.7.4"
  }
 },
 "nbformat": 4,
 "nbformat_minor": 4
}
