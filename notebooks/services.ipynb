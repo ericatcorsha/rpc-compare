{
 "cells": [
  {
   "cell_type": "markdown",
   "metadata": {},
   "source": [
    "# Response times\n"
   ]
  },
  {
   "cell_type": "code",
   "execution_count": 1,
   "metadata": {},
   "outputs": [],
   "source": [
    "import pandas as pd\n",
    "import seaborn as sns\n",
    "sns.set(style=\"ticks\", palette=\"pastel\")\n",
    "\n",
    "data = {\n",
    "    \"baseline (ms)\": list(pd.read_csv(\"~/data/baseline.csv\")['response-time'] * 1000), # (* 1000) converts secs to ms\n",
    "    \"graphql (ms)\": list(pd.read_csv(\"~/data/graphql.csv\")['response-time'] * 1000), # (* 1000) converts secs to ms\n",
    "    \"grpc (ms)\": list(pd.read_csv(\"~/data/grpc.csv\")['duration (ms)']), # time is in ms\n",
    "    \"grpc-gateway (ms)\": list(pd.read_csv(\"~/data/grpc-gateway.csv\")['response-time'] * 1000), # (* 1000) converts secs to ms\n",
    "}\n",
    "df = pd.DataFrame(data)"
   ]
  },
  {
   "cell_type": "code",
   "execution_count": 2,
   "metadata": {},
   "outputs": [
    {
     "data": {
      "text/html": [
       "<div>\n",
       "<style scoped>\n",
       "    .dataframe tbody tr th:only-of-type {\n",
       "        vertical-align: middle;\n",
       "    }\n",
       "\n",
       "    .dataframe tbody tr th {\n",
       "        vertical-align: top;\n",
       "    }\n",
       "\n",
       "    .dataframe thead th {\n",
       "        text-align: right;\n",
       "    }\n",
       "</style>\n",
       "<table border=\"1\" class=\"dataframe\">\n",
       "  <thead>\n",
       "    <tr style=\"text-align: right;\">\n",
       "      <th></th>\n",
       "      <th>baseline (ms)</th>\n",
       "      <th>graphql (ms)</th>\n",
       "      <th>grpc (ms)</th>\n",
       "      <th>grpc-gateway (ms)</th>\n",
       "    </tr>\n",
       "  </thead>\n",
       "  <tbody>\n",
       "    <tr>\n",
       "      <th>count</th>\n",
       "      <td>10000.000000</td>\n",
       "      <td>10000.000000</td>\n",
       "      <td>10000.000000</td>\n",
       "      <td>10000.000000</td>\n",
       "    </tr>\n",
       "    <tr>\n",
       "      <th>mean</th>\n",
       "      <td>8.406790</td>\n",
       "      <td>9.160150</td>\n",
       "      <td>9.403337</td>\n",
       "      <td>9.066910</td>\n",
       "    </tr>\n",
       "    <tr>\n",
       "      <th>std</th>\n",
       "      <td>4.768422</td>\n",
       "      <td>4.829998</td>\n",
       "      <td>5.518655</td>\n",
       "      <td>6.251547</td>\n",
       "    </tr>\n",
       "    <tr>\n",
       "      <th>min</th>\n",
       "      <td>0.300000</td>\n",
       "      <td>0.300000</td>\n",
       "      <td>0.620000</td>\n",
       "      <td>0.300000</td>\n",
       "    </tr>\n",
       "    <tr>\n",
       "      <th>50%</th>\n",
       "      <td>8.200000</td>\n",
       "      <td>8.800000</td>\n",
       "      <td>8.140000</td>\n",
       "      <td>8.000000</td>\n",
       "    </tr>\n",
       "    <tr>\n",
       "      <th>95%</th>\n",
       "      <td>16.500000</td>\n",
       "      <td>17.400000</td>\n",
       "      <td>20.620000</td>\n",
       "      <td>20.600000</td>\n",
       "    </tr>\n",
       "    <tr>\n",
       "      <th>99%</th>\n",
       "      <td>23.300000</td>\n",
       "      <td>23.600000</td>\n",
       "      <td>29.890300</td>\n",
       "      <td>30.100000</td>\n",
       "    </tr>\n",
       "    <tr>\n",
       "      <th>max</th>\n",
       "      <td>48.300000</td>\n",
       "      <td>56.800000</td>\n",
       "      <td>49.250000</td>\n",
       "      <td>72.400000</td>\n",
       "    </tr>\n",
       "  </tbody>\n",
       "</table>\n",
       "</div>"
      ],
      "text/plain": [
       "       baseline (ms)  graphql (ms)     grpc (ms)  grpc-gateway (ms)\n",
       "count   10000.000000  10000.000000  10000.000000       10000.000000\n",
       "mean        8.406790      9.160150      9.403337           9.066910\n",
       "std         4.768422      4.829998      5.518655           6.251547\n",
       "min         0.300000      0.300000      0.620000           0.300000\n",
       "50%         8.200000      8.800000      8.140000           8.000000\n",
       "95%        16.500000     17.400000     20.620000          20.600000\n",
       "99%        23.300000     23.600000     29.890300          30.100000\n",
       "max        48.300000     56.800000     49.250000          72.400000"
      ]
     },
     "execution_count": 2,
     "metadata": {},
     "output_type": "execute_result"
    }
   ],
   "source": [
    "df.describe(percentiles=[0.5, 0.95, 0.99])"
   ]
  },
  {
   "cell_type": "code",
   "execution_count": 3,
   "metadata": {},
   "outputs": [
    {
     "data": {
      "image/png": "[encoded data removed]",
      "text/plain": [
       "<Figure size 432x288 with 1 Axes>"
      ]
     },
     "metadata": {},
     "output_type": "display_data"
    }
   ],
   "source": [
    "sns.boxplot(data=df)\n",
    "sns.despine(offset=10, trim=True)"
   ]
  },
  {
   "cell_type": "markdown",
   "metadata": {},
   "source": [
    "# Binary sizes"
   ]
  },
  {
   "cell_type": "code",
   "execution_count": 4,
   "metadata": {},
   "outputs": [
    {
     "data": {
      "text/html": [
       "<div>\n",
       "<style scoped>\n",
       "    .dataframe tbody tr th:only-of-type {\n",
       "        vertical-align: middle;\n",
       "    }\n",
       "\n",
       "    .dataframe tbody tr th {\n",
       "        vertical-align: top;\n",
       "    }\n",
       "\n",
       "    .dataframe thead th {\n",
       "        text-align: right;\n",
       "    }\n",
       "</style>\n",
       "<table border=\"1\" class=\"dataframe\">\n",
       "  <thead>\n",
       "    <tr style=\"text-align: right;\">\n",
       "      <th></th>\n",
       "      <th>binary</th>\n",
       "      <th>size (bytes)</th>\n",
       "      <th>diff from baseline</th>\n",
       "    </tr>\n",
       "  </thead>\n",
       "  <tbody>\n",
       "    <tr>\n",
       "      <th>0</th>\n",
       "      <td>baseline</td>\n",
       "      <td>7906070</td>\n",
       "      <td>0</td>\n",
       "    </tr>\n",
       "    <tr>\n",
       "      <th>2</th>\n",
       "      <td>graphql</td>\n",
       "      <td>11284186</td>\n",
       "      <td>3378116</td>\n",
       "    </tr>\n",
       "    <tr>\n",
       "      <th>3</th>\n",
       "      <td>grpcgateway</td>\n",
       "      <td>14292562</td>\n",
       "      <td>6386492</td>\n",
       "    </tr>\n",
       "    <tr>\n",
       "      <th>1</th>\n",
       "      <td>go-swagger</td>\n",
       "      <td>15063335</td>\n",
       "      <td>7157265</td>\n",
       "    </tr>\n",
       "  </tbody>\n",
       "</table>\n",
       "</div>"
      ],
      "text/plain": [
       "        binary  size (bytes)  diff from baseline\n",
       "0     baseline       7906070                   0\n",
       "2      graphql      11284186             3378116\n",
       "3  grpcgateway      14292562             6386492\n",
       "1   go-swagger      15063335             7157265"
      ]
     },
     "execution_count": 4,
     "metadata": {},
     "output_type": "execute_result"
    }
   ],
   "source": [
    "bin_sizes = pd.read_csv(\"~/data/bin-sizes.csv\").sort_values(by=\"size (bytes)\")\n",
    "baseline = bin_sizes[bin_sizes[\"binary\"] == \"baseline\"][\"size (bytes)\"][0]\n",
    "bin_sizes[\"diff from baseline\"] = bin_sizes[\"size (bytes)\"] - baseline\n",
    "bin_sizes"
   ]
  },
  {
   "cell_type": "code",
   "execution_count": 5,
   "metadata": {},
   "outputs": [
    {
     "data": {
      "text/plain": [
       "<matplotlib.axes._subplots.AxesSubplot at 0x7fc2a3592b90>"
      ]
     },
     "execution_count": 5,
     "metadata": {},
     "output_type": "execute_result"
    },
    {
     "data": {
      "image/png": "[encoded data removed]",
      "text/plain": [
       "<Figure size 432x288 with 1 Axes>"
      ]
     },
     "metadata": {},
     "output_type": "display_data"
    }
   ],
   "source": [
    "sns.barplot(y=\"size (bytes)\", x=\"binary\", data=bin_sizes)"
   ]
  }
 ],
 "metadata": {
  "kernelspec": {
   "display_name": "Python 3",
   "language": "python",
   "name": "python3"
  },
  "language_info": {
   "codemirror_mode": {
    "name": "ipython",
    "version": 3
   },
   "file_extension": ".py",
   "mimetype": "text/x-python",
   "name": "python",
   "nbconvert_exporter": "python",
   "pygments_lexer": "ipython3",
   "version": "3.7.4"
  }
 },
 "nbformat": 4,
 "nbformat_minor": 4
}
